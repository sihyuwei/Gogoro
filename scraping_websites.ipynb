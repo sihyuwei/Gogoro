{
 "cells": [
  {
   "cell_type": "code",
   "execution_count": null,
   "metadata": {},
   "outputs": [],
   "source": [
    "import requests\n",
    "import pandas as pd\n",
    "from bs4 import BeautifulSoup as bs\n",
    "import json"
   ]
  },
  {
   "cell_type": "code",
   "execution_count": null,
   "metadata": {},
   "outputs": [],
   "source": [
    "# comment and uncomment to run different files\n",
    "\n",
    "df = pd.read_csv('intermediate/換電站1.csv')\n",
    "# df = pd.read_csv('intermediate/換電站2.csv')"
   ]
  },
  {
   "cell_type": "code",
   "execution_count": null,
   "metadata": {},
   "outputs": [],
   "source": [
    "vmids = list(df.VmId)"
   ]
  },
  {
   "cell_type": "code",
   "execution_count": null,
   "metadata": {},
   "outputs": [],
   "source": [
    "# empty lists for later use\n",
    "\n",
    "names = []\n",
    "addresses = []\n",
    "hours = []\n",
    "nBatteries = []\n",
    "records = []\n",
    "maintenances = []\n",
    "\n",
    "for idx, vmid in enumerate(vmids):\n",
    "    \n",
    "    print(idx)\n",
    "\n",
    "    record = []\n",
    "    maintenance = []\n",
    "\n",
    "    # scrape the html\n",
    "    r = requests.get(f'https://mowd.tw/gostation/vmid/{vmid}/')\n",
    "    r.encoding='utf-8'\n",
    "    soup = bs(r.text, 'html.parser')\n",
    "\n",
    "    # find all <h3> tags and <p> tags\n",
    "    headings = soup.find_all(\"h3\")\n",
    "    paragraphs = soup.find_all(\"p\")\n",
    "\n",
    "    # name of the station\n",
    "    names.append(headings[0].text)\n",
    "\n",
    "    # first few pieces of information always match\n",
    "    addresses.append(paragraphs[0].text)\n",
    "    hours.append(paragraphs[1].text)\n",
    "    nBatteries.append(paragraphs[2].text)\n",
    "\n",
    "    # get records\n",
    "    for paragraph in paragraphs[3:]:\n",
    "            # check if the current <p> tag is a sibling of <h3> tag\n",
    "            if paragraph.find_previous_sibling(\"h3\") == headings[1]:\n",
    "                record.append(paragraph.text)\n",
    "    records.append(record)\n",
    "\n",
    "    # find all the sibling of certain tags to get maintenance records\n",
    "    clearfix = soup.find(\"div\", class_=\"clearfix\")\n",
    "    for paragraph in paragraphs:\n",
    "        if paragraph.find_previous_sibling(\"div\") == clearfix:\n",
    "            maintenance.append(paragraph.text)\n",
    "    maintenances.append(maintenance)"
   ]
  },
  {
   "cell_type": "code",
   "execution_count": null,
   "metadata": {},
   "outputs": [],
   "source": [
    "# integrate the lists into a dataframe\n",
    "\n",
    "df2 = pd.DataFrame(\n",
    "    {'NameOnPage': names,\n",
    "     'Address': addresses,\n",
    "     'Hours': hours,\n",
    "     'nBatteries': nBatteries,\n",
    "     'Records': records,\n",
    "     'MaintenanceRecord': maintenances\n",
    "    })"
   ]
  },
  {
   "cell_type": "code",
   "execution_count": null,
   "metadata": {},
   "outputs": [],
   "source": [
    "# cleaning strings\n",
    "\n",
    "df2.Address = df2.Address.apply(lambda address: address[3:])\n",
    "df2.Hours = df2.Hours.apply(lambda hours: hours[5:])\n",
    "df2.nBatteries = df2.nBatteries.apply(lambda nb: nb[5:nb.index('顆')])\n",
    "df2.head()"
   ]
  },
  {
   "cell_type": "code",
   "execution_count": null,
   "metadata": {},
   "outputs": [],
   "source": [
    "# merge back to the original dataframe\n",
    "\n",
    "df_merged = pd.concat([df, df2], axis=1)\n",
    "df_merged.to_csv('battery_station_2.csv', index=False)"
   ]
  }
 ],
 "metadata": {
  "kernelspec": {
   "display_name": "Python 3.9.10",
   "language": "python",
   "name": "python3"
  },
  "language_info": {
   "codemirror_mode": {
    "name": "ipython",
    "version": 3
   },
   "file_extension": ".py",
   "mimetype": "text/x-python",
   "name": "python",
   "nbconvert_exporter": "python",
   "pygments_lexer": "ipython3",
   "version": "3.9.10"
  },
  "orig_nbformat": 4,
  "vscode": {
   "interpreter": {
    "hash": "b0187994454a33e7163227147bf743be4163099be0fb64068e99d786cf559a75"
   }
  }
 },
 "nbformat": 4,
 "nbformat_minor": 2
}
