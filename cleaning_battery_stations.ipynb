{
 "cells": [
  {
   "cell_type": "code",
   "execution_count": 1,
   "metadata": {},
   "outputs": [],
   "source": [
    "import numpy as np\n",
    "import pandas as pd"
   ]
  },
  {
   "cell_type": "code",
   "execution_count": 2,
   "metadata": {},
   "outputs": [],
   "source": [
    "# importing the data\n",
    "\n",
    "df1 = pd.read_csv('battery_station_1.csv')\n",
    "df2 = pd.read_csv('battery_station_2.csv')\n",
    "df3 = pd.read_csv('intermediate/服務中心.csv')\n",
    "df4 = pd.read_csv('intermediate/others.csv')"
   ]
  },
  {
   "cell_type": "code",
   "execution_count": 3,
   "metadata": {},
   "outputs": [],
   "source": [
    "# cleaning the battery station data\n",
    "\n",
    "df = pd.concat([df1, df2], ignore_index=True)\n",
    "df = df.drop(['description', 'timestamp', 'begin', 'end', 'altitudeMode', 'tessellate', 'extrude', 'visibility', 'drawOrder', 'icon', 'NameOnPage', 'Address'], axis=1)\n",
    "df = df.rename(columns={'______':'address', '____________': 'status', 'Latitude': 'lat', 'Longitude': 'lng'})\n",
    "df.to_csv('results/battery_stations.csv', index=False)"
   ]
  },
  {
   "cell_type": "code",
   "execution_count": 4,
   "metadata": {},
   "outputs": [],
   "source": [
    "# cleaning the service center data\n",
    "\n",
    "df3 = df3.drop(['description', 'timestamp', 'begin', 'end', 'altitudeMode', 'tessellate', 'extrude', 'visibility', 'drawOrder'], axis=1)\n",
    "df3.to_csv('results/service_centers.csv', index=False)"
   ]
  },
  {
   "cell_type": "code",
   "execution_count": 5,
   "metadata": {},
   "outputs": [],
   "source": [
    "# cleaning the others data\n",
    "\n",
    "df4['lat'] = df4['description'].apply(lambda des: des[des.index('緯度')+4:des.index('<br>經度')])\n",
    "df4 = df4.rename(columns = {'______': 'lng', '____________': 'status'})\n",
    "df4 = df4[['Name', 'status', 'lat', 'lng']]\n",
    "df4.to_csv('results/others.csv')"
   ]
  }
 ],
 "metadata": {
  "kernelspec": {
   "display_name": "Python 3.9.7 ('base')",
   "language": "python",
   "name": "python3"
  },
  "language_info": {
   "codemirror_mode": {
    "name": "ipython",
    "version": 3
   },
   "file_extension": ".py",
   "mimetype": "text/x-python",
   "name": "python",
   "nbconvert_exporter": "python",
   "pygments_lexer": "ipython3",
   "version": "3.9.7"
  },
  "orig_nbformat": 4,
  "vscode": {
   "interpreter": {
    "hash": "526a3113e883f61beef86ede594754d8bd591cb31b4b3261c1dfaa691314bdad"
   }
  }
 },
 "nbformat": 4,
 "nbformat_minor": 2
}
